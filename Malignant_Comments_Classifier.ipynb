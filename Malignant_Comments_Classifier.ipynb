{
  "nbformat": 4,
  "nbformat_minor": 0,
  "metadata": {
    "colab": {
      "name": "Malignant_Comments_Classifier.ipynb",
      "provenance": [],
      "collapsed_sections": [],
      "authorship_tag": "ABX9TyNMQq0VNxzwyfSnbaEsWITC",
      "include_colab_link": true
    },
    "kernelspec": {
      "name": "python3",
      "display_name": "Python 3"
    },
    "language_info": {
      "name": "python"
    }
  },
  "cells": [
    {
      "cell_type": "markdown",
      "metadata": {
        "id": "view-in-github",
        "colab_type": "text"
      },
      "source": [
        "<a href=\"https://colab.research.google.com/github/Gautam-1982/BeautifulSoup/blob/main/Malignant_Comments_Classifier.ipynb\" target=\"_parent\"><img src=\"https://colab.research.google.com/assets/colab-badge.svg\" alt=\"Open In Colab\"/></a>"
      ]
    },
    {
      "cell_type": "code",
      "metadata": {
        "id": "yDsQes0YwHIA"
      },
      "source": [
        "from google.colab import  drive"
      ],
      "execution_count": 1,
      "outputs": []
    },
    {
      "cell_type": "code",
      "metadata": {
        "colab": {
          "base_uri": "https://localhost:8080/"
        },
        "id": "eG_AuB5owdNo",
        "outputId": "d5000dc5-1fc0-4871-c95a-bc95aeb9faa4"
      },
      "source": [
        "drive.mount('/content/drive')"
      ],
      "execution_count": 2,
      "outputs": [
        {
          "output_type": "stream",
          "text": [
            "Mounted at /content/drive\n"
          ],
          "name": "stdout"
        }
      ]
    },
    {
      "cell_type": "code",
      "metadata": {
        "id": "8V9MWj-swhW9"
      },
      "source": [
        "import pandas as pd\n",
        "import numpy as np\n",
        "import matplotlib.pyplot as plt\n",
        "%matplotlib inline"
      ],
      "execution_count": 3,
      "outputs": []
    },
    {
      "cell_type": "code",
      "metadata": {
        "id": "iOtcf75ZwwBU"
      },
      "source": [
        "#Read the csv file into dataframe df\n",
        "data = pd.read_csv('/content/drive/MyDrive/gautam bhushan/train.csv')"
      ],
      "execution_count": 4,
      "outputs": []
    },
    {
      "cell_type": "code",
      "metadata": {
        "colab": {
          "base_uri": "https://localhost:8080/",
          "height": 417
        },
        "id": "l2w_q9QiwyI1",
        "outputId": "74e7a74d-ab25-486f-ffa4-2b9cb8e22e28"
      },
      "source": [
        "data"
      ],
      "execution_count": 5,
      "outputs": [
        {
          "output_type": "execute_result",
          "data": {
            "text/html": [
              "<div>\n",
              "<style scoped>\n",
              "    .dataframe tbody tr th:only-of-type {\n",
              "        vertical-align: middle;\n",
              "    }\n",
              "\n",
              "    .dataframe tbody tr th {\n",
              "        vertical-align: top;\n",
              "    }\n",
              "\n",
              "    .dataframe thead th {\n",
              "        text-align: right;\n",
              "    }\n",
              "</style>\n",
              "<table border=\"1\" class=\"dataframe\">\n",
              "  <thead>\n",
              "    <tr style=\"text-align: right;\">\n",
              "      <th></th>\n",
              "      <th>id</th>\n",
              "      <th>comment_text</th>\n",
              "      <th>malignant</th>\n",
              "      <th>highly_malignant</th>\n",
              "      <th>rude</th>\n",
              "      <th>threat</th>\n",
              "      <th>abuse</th>\n",
              "      <th>loathe</th>\n",
              "    </tr>\n",
              "  </thead>\n",
              "  <tbody>\n",
              "    <tr>\n",
              "      <th>0</th>\n",
              "      <td>0000997932d777bf</td>\n",
              "      <td>Explanation\\nWhy the edits made under my usern...</td>\n",
              "      <td>0</td>\n",
              "      <td>0</td>\n",
              "      <td>0</td>\n",
              "      <td>0</td>\n",
              "      <td>0</td>\n",
              "      <td>0</td>\n",
              "    </tr>\n",
              "    <tr>\n",
              "      <th>1</th>\n",
              "      <td>000103f0d9cfb60f</td>\n",
              "      <td>D'aww! He matches this background colour I'm s...</td>\n",
              "      <td>0</td>\n",
              "      <td>0</td>\n",
              "      <td>0</td>\n",
              "      <td>0</td>\n",
              "      <td>0</td>\n",
              "      <td>0</td>\n",
              "    </tr>\n",
              "    <tr>\n",
              "      <th>2</th>\n",
              "      <td>000113f07ec002fd</td>\n",
              "      <td>Hey man, I'm really not trying to edit war. It...</td>\n",
              "      <td>0</td>\n",
              "      <td>0</td>\n",
              "      <td>0</td>\n",
              "      <td>0</td>\n",
              "      <td>0</td>\n",
              "      <td>0</td>\n",
              "    </tr>\n",
              "    <tr>\n",
              "      <th>3</th>\n",
              "      <td>0001b41b1c6bb37e</td>\n",
              "      <td>\"\\nMore\\nI can't make any real suggestions on ...</td>\n",
              "      <td>0</td>\n",
              "      <td>0</td>\n",
              "      <td>0</td>\n",
              "      <td>0</td>\n",
              "      <td>0</td>\n",
              "      <td>0</td>\n",
              "    </tr>\n",
              "    <tr>\n",
              "      <th>4</th>\n",
              "      <td>0001d958c54c6e35</td>\n",
              "      <td>You, sir, are my hero. Any chance you remember...</td>\n",
              "      <td>0</td>\n",
              "      <td>0</td>\n",
              "      <td>0</td>\n",
              "      <td>0</td>\n",
              "      <td>0</td>\n",
              "      <td>0</td>\n",
              "    </tr>\n",
              "    <tr>\n",
              "      <th>...</th>\n",
              "      <td>...</td>\n",
              "      <td>...</td>\n",
              "      <td>...</td>\n",
              "      <td>...</td>\n",
              "      <td>...</td>\n",
              "      <td>...</td>\n",
              "      <td>...</td>\n",
              "      <td>...</td>\n",
              "    </tr>\n",
              "    <tr>\n",
              "      <th>159566</th>\n",
              "      <td>ffe987279560d7ff</td>\n",
              "      <td>\":::::And for the second time of asking, when ...</td>\n",
              "      <td>0</td>\n",
              "      <td>0</td>\n",
              "      <td>0</td>\n",
              "      <td>0</td>\n",
              "      <td>0</td>\n",
              "      <td>0</td>\n",
              "    </tr>\n",
              "    <tr>\n",
              "      <th>159567</th>\n",
              "      <td>ffea4adeee384e90</td>\n",
              "      <td>You should be ashamed of yourself \\n\\nThat is ...</td>\n",
              "      <td>0</td>\n",
              "      <td>0</td>\n",
              "      <td>0</td>\n",
              "      <td>0</td>\n",
              "      <td>0</td>\n",
              "      <td>0</td>\n",
              "    </tr>\n",
              "    <tr>\n",
              "      <th>159568</th>\n",
              "      <td>ffee36eab5c267c9</td>\n",
              "      <td>Spitzer \\n\\nUmm, theres no actual article for ...</td>\n",
              "      <td>0</td>\n",
              "      <td>0</td>\n",
              "      <td>0</td>\n",
              "      <td>0</td>\n",
              "      <td>0</td>\n",
              "      <td>0</td>\n",
              "    </tr>\n",
              "    <tr>\n",
              "      <th>159569</th>\n",
              "      <td>fff125370e4aaaf3</td>\n",
              "      <td>And it looks like it was actually you who put ...</td>\n",
              "      <td>0</td>\n",
              "      <td>0</td>\n",
              "      <td>0</td>\n",
              "      <td>0</td>\n",
              "      <td>0</td>\n",
              "      <td>0</td>\n",
              "    </tr>\n",
              "    <tr>\n",
              "      <th>159570</th>\n",
              "      <td>fff46fc426af1f9a</td>\n",
              "      <td>\"\\nAnd ... I really don't think you understand...</td>\n",
              "      <td>0</td>\n",
              "      <td>0</td>\n",
              "      <td>0</td>\n",
              "      <td>0</td>\n",
              "      <td>0</td>\n",
              "      <td>0</td>\n",
              "    </tr>\n",
              "  </tbody>\n",
              "</table>\n",
              "<p>159571 rows × 8 columns</p>\n",
              "</div>"
            ],
            "text/plain": [
              "                      id  ... loathe\n",
              "0       0000997932d777bf  ...      0\n",
              "1       000103f0d9cfb60f  ...      0\n",
              "2       000113f07ec002fd  ...      0\n",
              "3       0001b41b1c6bb37e  ...      0\n",
              "4       0001d958c54c6e35  ...      0\n",
              "...                  ...  ...    ...\n",
              "159566  ffe987279560d7ff  ...      0\n",
              "159567  ffea4adeee384e90  ...      0\n",
              "159568  ffee36eab5c267c9  ...      0\n",
              "159569  fff125370e4aaaf3  ...      0\n",
              "159570  fff46fc426af1f9a  ...      0\n",
              "\n",
              "[159571 rows x 8 columns]"
            ]
          },
          "metadata": {
            "tags": []
          },
          "execution_count": 5
        }
      ]
    },
    {
      "cell_type": "code",
      "metadata": {
        "colab": {
          "base_uri": "https://localhost:8080/"
        },
        "id": "etgbuxQZw0Hu",
        "outputId": "c1e430f0-223d-48e4-c345-32bc8e5e4e9e"
      },
      "source": [
        "#checking shape\n",
        "data.shape"
      ],
      "execution_count": 6,
      "outputs": [
        {
          "output_type": "execute_result",
          "data": {
            "text/plain": [
              "(159571, 8)"
            ]
          },
          "metadata": {
            "tags": []
          },
          "execution_count": 6
        }
      ]
    },
    {
      "cell_type": "code",
      "metadata": {
        "colab": {
          "base_uri": "https://localhost:8080/"
        },
        "id": "0Gy4t_3Nw3uO",
        "outputId": "abc2b42f-ff67-44b1-d665-97439d56f5e4"
      },
      "source": [
        "#List the fields in our dataframe\n",
        "print(data.dtypes)"
      ],
      "execution_count": 7,
      "outputs": [
        {
          "output_type": "stream",
          "text": [
            "id                  object\n",
            "comment_text        object\n",
            "malignant            int64\n",
            "highly_malignant     int64\n",
            "rude                 int64\n",
            "threat               int64\n",
            "abuse                int64\n",
            "loathe               int64\n",
            "dtype: object\n"
          ],
          "name": "stdout"
        }
      ]
    },
    {
      "cell_type": "code",
      "metadata": {
        "id": "eDe7iAZxw5eM"
      },
      "source": [
        "# below line causes shuffling of indices, to avoid using train_test_split later\n",
        "data = data.reindex(np.random.permutation(data.index))"
      ],
      "execution_count": 8,
      "outputs": []
    },
    {
      "cell_type": "markdown",
      "metadata": {
        "id": "NwaAX7Q4xBIa"
      },
      "source": [
        "## Separate the comment field data and outcome labels"
      ]
    },
    {
      "cell_type": "code",
      "metadata": {
        "colab": {
          "base_uri": "https://localhost:8080/"
        },
        "id": "G0CIjYx6xFUr",
        "outputId": "e4414780-73a3-49a1-ec7c-97729057bfed"
      },
      "source": [
        "comment = data['comment_text']\n",
        "print(comment.head())\n",
        "comment = comment.to_numpy()"
      ],
      "execution_count": 9,
      "outputs": [
        {
          "output_type": "stream",
          "text": [
            "157985    Ok, so I need to find an online article that f...\n",
            "103529    No coz I've a life to get back to, and you cau...\n",
            "61855     Logo \\n\\nPlease add a copy-right free version ...\n",
            "27796        Hoover's investigation into the Kennedy Murder\n",
            "105244    Can you even begin to imagine what I think abo...\n",
            "Name: comment_text, dtype: object\n"
          ],
          "name": "stdout"
        }
      ]
    },
    {
      "cell_type": "code",
      "metadata": {
        "colab": {
          "base_uri": "https://localhost:8080/"
        },
        "id": "cARWNmtLxPVf",
        "outputId": "266e9ca8-53bf-4ed3-c30e-5e39a3b01481"
      },
      "source": [
        "label = data[['malignant', 'highly_malignant', 'rude', 'threat', 'abuse', 'loathe']]\n",
        "print(label.head())\n",
        "label = label.to_numpy()"
      ],
      "execution_count": 10,
      "outputs": [
        {
          "output_type": "stream",
          "text": [
            "        malignant  highly_malignant  rude  threat  abuse  loathe\n",
            "157985          0                 0     0       0      0       0\n",
            "103529          0                 0     0       0      0       0\n",
            "61855           0                 0     0       0      0       0\n",
            "27796           0                 0     0       0      0       0\n",
            "105244          0                 0     0       0      0       0\n"
          ],
          "name": "stdout"
        }
      ]
    },
    {
      "cell_type": "markdown",
      "metadata": {
        "id": "kA2lv0zRxeIT"
      },
      "source": [
        "Let us find out the frequency of occurence of multilabelled data\n",
        "\n",
        "ct1 counts samples having atleast one label\n",
        "\n",
        "ct2 counts samples having 2 or more than 2 labels"
      ]
    },
    {
      "cell_type": "code",
      "metadata": {
        "colab": {
          "base_uri": "https://localhost:8080/"
        },
        "id": "gdrjtmKtxe0g",
        "outputId": "37a53543-efc8-4cda-c019-e2a65afdb202"
      },
      "source": [
        "ct1,ct2 = 0,0\n",
        "for i in range(label.shape[0]):\n",
        "    ct = np.count_nonzero(label[i])\n",
        "    if ct :\n",
        "        ct1 = ct1+1\n",
        "    if ct>1 :\n",
        "        ct2 = ct2+1\n",
        "print(ct1)\n",
        "print(ct2)"
      ],
      "execution_count": 11,
      "outputs": [
        {
          "output_type": "stream",
          "text": [
            "16225\n",
            "9865\n"
          ],
          "name": "stdout"
        }
      ]
    },
    {
      "cell_type": "markdown",
      "metadata": {
        "id": "AqFQqOobx88w"
      },
      "source": [
        "\n",
        "## Data Visualisations"
      ]
    },
    {
      "cell_type": "markdown",
      "metadata": {
        "id": "45z-qepgyCcH"
      },
      "source": [
        "\n",
        "Let us analyse the no. of comments having lengths varying from 0 to 1200"
      ]
    },
    {
      "cell_type": "code",
      "metadata": {
        "colab": {
          "base_uri": "https://localhost:8080/",
          "height": 300
        },
        "id": "YyYGorNTxq3A",
        "outputId": "0dc96c8b-52fb-484d-b190-2b5161ca9d04"
      },
      "source": [
        "x = [len(comment[i]) for i in range(comment.shape[0])]\n",
        "\n",
        "print('average length of comment: {:.3f}'.format(sum(x)/len(x)) )\n",
        "bins = [1,200,400,600,800,1000,1200]\n",
        "plt.hist(x, bins=bins)\n",
        "plt.xlabel('Length of comments')\n",
        "plt.ylabel('Number of comments')       \n",
        "plt.axis([0, 1200, 0, 90000])\n",
        "plt.grid(True)\n",
        "plt.show()"
      ],
      "execution_count": 12,
      "outputs": [
        {
          "output_type": "stream",
          "text": [
            "average length of comment: 394.139\n"
          ],
          "name": "stdout"
        },
        {
          "output_type": "display_data",
          "data": {
            "image/png": "[encoded data removed]",
            "text/plain": [
              "<Figure size 432x288 with 1 Axes>"
            ]
          },
          "metadata": {
            "tags": [],
            "needs_background": "light"
          }
        }
      ]
    },
    {
      "cell_type": "markdown",
      "metadata": {
        "id": "HK-1DM7eyMgG"
      },
      "source": [
        "Number of comments classified as malignant, highly_malignant,....etc depending on their lengths"
      ]
    },
    {
      "cell_type": "code",
      "metadata": {
        "colab": {
          "base_uri": "https://localhost:8080/",
          "height": 283
        },
        "id": "4mS8tn4syM_n",
        "outputId": "9b2b666b-fac9-46d9-fc0b-aab8974d416c"
      },
      "source": [
        "y = np.zeros(label.shape)\n",
        "for ix in range(comment.shape[0]):\n",
        "    l = len(comment[ix])\n",
        "    if label[ix][0] :\n",
        "        y[ix][0] = l\n",
        "    if label[ix][1] :\n",
        "        y[ix][1] = l\n",
        "    if label[ix][2] :\n",
        "        y[ix][2] = l\n",
        "    if label[ix][3] :\n",
        "        y[ix][3] = l\n",
        "    if label[ix][4] :\n",
        "        y[ix][4] = l\n",
        "    if label[ix][5] :\n",
        "        y[ix][5] = l\n",
        "\n",
        "labelsplt = ['malignant', 'highly_malignant', 'rude', 'threat', 'abuse', 'loathe']\n",
        "color = ['red','green','blue','yellow','orange','chartreuse']        \n",
        "plt.hist(y,bins = bins,label = labelsplt,color = color)\n",
        "plt.axis([0, 1200, 0, 8000])\n",
        "plt.xlabel('Length of comments')\n",
        "plt.ylabel('Number of comments') \n",
        "plt.legend()\n",
        "plt.grid(True)\n",
        "plt.show()"
      ],
      "execution_count": 13,
      "outputs": [
        {
          "output_type": "display_data",
          "data": {
            "image/png": "[encoded data removed]",
            "text/plain": [
              "<Figure size 432x288 with 1 Axes>"
            ]
          },
          "metadata": {
            "tags": [],
            "needs_background": "light"
          }
        }
      ]
    },
    {
      "cell_type": "markdown",
      "metadata": {
        "id": "Nl7oNK1ayXJW"
      },
      "source": [
        "## Remove excessive length comments"
      ]
    },
    {
      "cell_type": "markdown",
      "metadata": {
        "id": "CCOQdhMZydqv"
      },
      "source": [
        "Some very large length comments can be seen, in our dataset. These pose serious problems like adding excessively more words to the training dataset, causing training time to increase and accuracy to decrease! Hence, a threshold of 400 characters will be created and only comments which have length smaller than 400 will be used further."
      ]
    },
    {
      "cell_type": "code",
      "metadata": {
        "id": "yKx_yEM3yeRU"
      },
      "source": [
        "comments = []\n",
        "labels = []\n",
        "\n",
        "for ix in range(comment.shape[0]):\n",
        "    if len(comment[ix])<=400:\n",
        "        comments.append(comment[ix])\n",
        "        labels.append(label[ix])"
      ],
      "execution_count": 14,
      "outputs": []
    },
    {
      "cell_type": "code",
      "metadata": {
        "id": "VOw0uscsyhWL"
      },
      "source": [
        "labels = np.asarray(labels)"
      ],
      "execution_count": 15,
      "outputs": []
    },
    {
      "cell_type": "code",
      "metadata": {
        "colab": {
          "base_uri": "https://localhost:8080/"
        },
        "id": "AE_XzOckyk_9",
        "outputId": "6ef1344c-d7cd-4729-fc44-d2ad2fe33e58"
      },
      "source": [
        "print(len(comments))\n",
        "\n"
      ],
      "execution_count": 16,
      "outputs": [
        {
          "output_type": "stream",
          "text": [
            "115893\n"
          ],
          "name": "stdout"
        }
      ]
    },
    {
      "cell_type": "markdown",
      "metadata": {
        "id": "FWYRMndyytN-"
      },
      "source": [
        "Hence, after removing comments longer than 400 characters, we are still left with 115893 comments, which seems enough for training purposes."
      ]
    },
    {
      "cell_type": "markdown",
      "metadata": {
        "id": "BVcJLr-DyxmT"
      },
      "source": [
        "## Preprocessing"
      ]
    },
    {
      "cell_type": "markdown",
      "metadata": {
        "id": "WFz7B5Pzy5Sq"
      },
      "source": [
        "The string library contains punctuation characters. This is imported and all numbers are appended to this string. Also, we can notice that our comment_text field contains strings such as won't, didn't, etc which contain apostrophe character('). To prevent these words from being converted to wont/didnt, the character ' represented as \\' in escape sequence notation is replaced by empty character in the punctuation string."
      ]
    },
    {
      "cell_type": "markdown",
      "metadata": {
        "id": "lAV7qg95y9iB"
      },
      "source": [
        "maketrans() returns a translation table that maps each character in the punctuation_edit into the character at the same position in the outtab string i.e. it replaces every character in the removal list with a space, since outtab contains a string with spaces"
      ]
    },
    {
      "cell_type": "code",
      "metadata": {
        "colab": {
          "base_uri": "https://localhost:8080/"
        },
        "id": "9NQSmjgry_hY",
        "outputId": "a1ba44c1-08fd-4461-f0cc-588f289d4dcf"
      },
      "source": [
        "import string\n",
        "print(string.punctuation)\n",
        "punctuation_edit = string.punctuation.replace('\\'','') +\"0123456789\"\n",
        "print (punctuation_edit)\n",
        "outtab = \"                                         \"\n",
        "trantab = str.maketrans(punctuation_edit, outtab)"
      ],
      "execution_count": 17,
      "outputs": [
        {
          "output_type": "stream",
          "text": [
            "!\"#$%&'()*+,-./:;<=>?@[\\]^_`{|}~\n",
            "!\"#$%&()*+,-./:;<=>?@[\\]^_`{|}~0123456789\n"
          ],
          "name": "stdout"
        }
      ]
    },
    {
      "cell_type": "markdown",
      "metadata": {
        "id": "2r-CE79IzII-"
      },
      "source": [
        "## Updating the list of stop words"
      ]
    },
    {
      "cell_type": "markdown",
      "metadata": {
        "id": "UjhYxADlzMDn"
      },
      "source": [
        "Stop words are those words that are frequently used in both written and verbal communication and thereby do not have either a positive/negative impact on our statement.E.g. is, this, us,etc. Single letter words if existing or created due to any preprocessing step do not convey any useful meaning and hence can be directly removed. Hence letters from b to z, will be added to the list of stop words imported directly."
      ]
    },
    {
      "cell_type": "code",
      "metadata": {
        "colab": {
          "base_uri": "https://localhost:8080/"
        },
        "id": "2Aw0VQkezMiG",
        "outputId": "584d61f4-df2a-403f-9261-8eea32c46ab0"
      },
      "source": [
        "import string\n",
        "import nltk\n",
        "nltk.download('stopwords')\n",
        "from nltk.corpus import stopwords\n",
        "\n",
        "stop_words = stopwords.words('english')\n",
        "stop_words.append('')\n",
        "\n",
        "for x in range(ord('b'), ord('z')+1):\n",
        "    stop_words.append(chr(x))"
      ],
      "execution_count": 18,
      "outputs": [
        {
          "output_type": "stream",
          "text": [
            "[nltk_data] Downloading package stopwords to /root/nltk_data...\n",
            "[nltk_data]   Unzipping corpora/stopwords.zip.\n"
          ],
          "name": "stdout"
        }
      ]
    },
    {
      "cell_type": "code",
      "metadata": {
        "colab": {
          "base_uri": "https://localhost:8080/"
        },
        "id": "9K1wL_EwzPrz",
        "outputId": "ab81cc6f-743c-4d90-da7b-98f75bb4c0c1"
      },
      "source": [
        "print (stop_words)"
      ],
      "execution_count": 19,
      "outputs": [
        {
          "output_type": "stream",
          "text": [
            "['i', 'me', 'my', 'myself', 'we', 'our', 'ours', 'ourselves', 'you', \"you're\", \"you've\", \"you'll\", \"you'd\", 'your', 'yours', 'yourself', 'yourselves', 'he', 'him', 'his', 'himself', 'she', \"she's\", 'her', 'hers', 'herself', 'it', \"it's\", 'its', 'itself', 'they', 'them', 'their', 'theirs', 'themselves', 'what', 'which', 'who', 'whom', 'this', 'that', \"that'll\", 'these', 'those', 'am', 'is', 'are', 'was', 'were', 'be', 'been', 'being', 'have', 'has', 'had', 'having', 'do', 'does', 'did', 'doing', 'a', 'an', 'the', 'and', 'but', 'if', 'or', 'because', 'as', 'until', 'while', 'of', 'at', 'by', 'for', 'with', 'about', 'against', 'between', 'into', 'through', 'during', 'before', 'after', 'above', 'below', 'to', 'from', 'up', 'down', 'in', 'out', 'on', 'off', 'over', 'under', 'again', 'further', 'then', 'once', 'here', 'there', 'when', 'where', 'why', 'how', 'all', 'any', 'both', 'each', 'few', 'more', 'most', 'other', 'some', 'such', 'no', 'nor', 'not', 'only', 'own', 'same', 'so', 'than', 'too', 'very', 's', 't', 'can', 'will', 'just', 'don', \"don't\", 'should', \"should've\", 'now', 'd', 'll', 'm', 'o', 're', 've', 'y', 'ain', 'aren', \"aren't\", 'couldn', \"couldn't\", 'didn', \"didn't\", 'doesn', \"doesn't\", 'hadn', \"hadn't\", 'hasn', \"hasn't\", 'haven', \"haven't\", 'isn', \"isn't\", 'ma', 'mightn', \"mightn't\", 'mustn', \"mustn't\", 'needn', \"needn't\", 'shan', \"shan't\", 'shouldn', \"shouldn't\", 'wasn', \"wasn't\", 'weren', \"weren't\", 'won', \"won't\", 'wouldn', \"wouldn't\", '', 'b', 'c', 'd', 'e', 'f', 'g', 'h', 'i', 'j', 'k', 'l', 'm', 'n', 'o', 'p', 'q', 'r', 's', 't', 'u', 'v', 'w', 'x', 'y', 'z']\n"
          ],
          "name": "stdout"
        }
      ]
    },
    {
      "cell_type": "markdown",
      "metadata": {
        "id": "Z83tYtaPzh_E"
      },
      "source": [
        "\n",
        "## Stemming and Lemmatizing"
      ]
    },
    {
      "cell_type": "markdown",
      "metadata": {
        "id": "aGKrSW4nzl1y"
      },
      "source": [
        "Stemming is the process of converting inflected/derived words to their word stem or the root form. Basically, a large number of similar origin words are converted to the same word.E.g. words like \"stems\", \"stemmer\", \"stemming\", \"stemmed\" as based on \"stem\". This helps in achieving the training process with a better accuracy. Lemmatizing is the process of grouping together the inflected forms of a word so they can be analysed as a single item. This is quite similar to stemming in its working but differs since it depends on correctly identifying the intended part of speech and meaning of a word in a sentence, as well as within the larger context surrounding that sentence, such as neighboring sentences or even an entire document. The wordnet library in nltk will be used for this purpose. Stemmer and Lemmatizer are also imported from nltk."
      ]
    },
    {
      "cell_type": "code",
      "metadata": {
        "id": "bHPoDeeSyoqE"
      },
      "source": [
        "import nltk\n",
        "from nltk.stem import PorterStemmer, WordNetLemmatizer"
      ],
      "execution_count": 20,
      "outputs": []
    },
    {
      "cell_type": "code",
      "metadata": {
        "colab": {
          "base_uri": "https://localhost:8080/"
        },
        "id": "ZsFJTUl1zsoW",
        "outputId": "c1e44363-984b-4193-bfeb-ba2c0ee3f494"
      },
      "source": [
        "#create objects for stemmer and lemmatizer\n",
        "lemmatiser = WordNetLemmatizer()\n",
        "stemmer = PorterStemmer()\n",
        "#download words from wordnet library\n",
        "nltk.download('wordnet')"
      ],
      "execution_count": 21,
      "outputs": [
        {
          "output_type": "stream",
          "text": [
            "[nltk_data] Downloading package wordnet to /root/nltk_data...\n",
            "[nltk_data]   Unzipping corpora/wordnet.zip.\n"
          ],
          "name": "stdout"
        },
        {
          "output_type": "execute_result",
          "data": {
            "text/plain": [
              "True"
            ]
          },
          "metadata": {
            "tags": []
          },
          "execution_count": 21
        }
      ]
    },
    {
      "cell_type": "markdown",
      "metadata": {
        "id": "opewhu1Kz0HK"
      },
      "source": [
        "We can now, loop once through all the comments applying :"
      ]
    },
    {
      "cell_type": "markdown",
      "metadata": {
        "id": "YVk0kdAdz2xn"
      },
      "source": [
        "## punctuation removal"
      ]
    },
    {
      "cell_type": "markdown",
      "metadata": {
        "id": "TLAxhfOXz6pb"
      },
      "source": [
        "splitting the words by space\n",
        "\n",
        "applying stemmer and lemmatizer\n",
        "\n",
        "recombining the words again for further processing"
      ]
    },
    {
      "cell_type": "code",
      "metadata": {
        "id": "m0T1c8TKz7JG"
      },
      "source": [
        "for i in range(len(comments)):\n",
        "    comments[i] = comments[i].lower().translate(trantab)\n",
        "    l = []\n",
        "    for word in comments[i].split():\n",
        "        l.append(stemmer.stem(lemmatiser.lemmatize(word,pos=\"v\")))\n",
        "    comments[i] = \" \".join(l)"
      ],
      "execution_count": 22,
      "outputs": []
    },
    {
      "cell_type": "markdown",
      "metadata": {
        "id": "s1FKGke40cpc"
      },
      "source": [
        "## Applying HashVectorizer"
      ]
    },
    {
      "cell_type": "code",
      "metadata": {
        "colab": {
          "base_uri": "https://localhost:8080/"
        },
        "id": "izI3kB9v0dxy",
        "outputId": "04e3378f-16b7-4a16-9bd4-158273370b7e"
      },
      "source": [
        "from sklearn.feature_extraction.text import HashingVectorizer\n",
        "\n",
        "vectorizer = HashingVectorizer(alternate_sign=False)\n",
        "tf = vectorizer.fit_transform(comments)\n",
        "print(tf.shape)"
      ],
      "execution_count": 23,
      "outputs": [
        {
          "output_type": "stream",
          "text": [
            "(115893, 1048576)\n"
          ],
          "name": "stdout"
        }
      ]
    },
    {
      "cell_type": "markdown",
      "metadata": {
        "id": "em4_42RX0klm"
      },
      "source": [
        "## Splitting dataset into training and testing"
      ]
    },
    {
      "cell_type": "markdown",
      "metadata": {
        "id": "6L6vLi9O0q9g"
      },
      "source": [
        "Since the system was going out of memory using train_test_split, I had jumbled all the indexes in the beginning itself. The shuffle function defined here performs the task of assigning first 2/3rd values to train and remaining 1/3rd values to the test set."
      ]
    },
    {
      "cell_type": "code",
      "metadata": {
        "colab": {
          "base_uri": "https://localhost:8080/"
        },
        "id": "ve_KB5xQ0rbq",
        "outputId": "cd9ec224-18f7-4bd5-cb7d-e9a15ea12bf0"
      },
      "source": [
        "def shuffle(matrix, target, test_proportion):\n",
        "    ratio = int(matrix.shape[0]/test_proportion)\n",
        "    X_train = matrix[ratio:,:]\n",
        "    X_test =  matrix[:ratio,:]\n",
        "    Y_train = target[ratio:,:]\n",
        "    Y_test =  target[:ratio,:]\n",
        "    return X_train, X_test, Y_train, Y_test\n",
        "\n",
        "X_train, X_test, Y_train, Y_test = shuffle(tf, labels,3)\n",
        "\n",
        "print(X_test.shape)\n",
        "print(X_train.shape)"
      ],
      "execution_count": 24,
      "outputs": [
        {
          "output_type": "stream",
          "text": [
            "(38631, 1048576)\n",
            "(77262, 1048576)\n"
          ],
          "name": "stdout"
        }
      ]
    },
    {
      "cell_type": "markdown",
      "metadata": {
        "id": "vb8UG2_j0zY0"
      },
      "source": [
        "\n",
        "## Implementation :"
      ]
    },
    {
      "cell_type": "markdown",
      "metadata": {
        "id": "EWN6MUzJ04Se"
      },
      "source": [
        "\n",
        "Let us define all the evaluation metrics"
      ]
    },
    {
      "cell_type": "code",
      "metadata": {
        "id": "O7p3HUT704ze"
      },
      "source": [
        "from sklearn.metrics import hamming_loss\n",
        "from sklearn.metrics import accuracy_score\n",
        "from sklearn.metrics import log_loss\n",
        "from sklearn.metrics import classification_report\n",
        "\n",
        "def evaluate_score(Y_test,predict): \n",
        "    loss = hamming_loss(Y_test,predict)\n",
        "    print(\"Hamming_loss : {}\".format(loss*100))\n",
        "    accuracy = accuracy_score(Y_test,predict)\n",
        "    print(\"Accuracy : {}\".format(accuracy*100))\n",
        "    try : \n",
        "        loss = log_loss(Y_test,predict)\n",
        "    except :\n",
        "        loss = log_loss(Y_test,predict.toarray())\n",
        "    print(\"Log_loss : {}\".format(loss))"
      ],
      "execution_count": 25,
      "outputs": []
    },
    {
      "cell_type": "markdown",
      "metadata": {
        "id": "s4B-XFSc0-jT"
      },
      "source": [
        "Binary Relevance (BR) Method with MultinomialNB classifiers (from scratch)"
      ]
    },
    {
      "cell_type": "code",
      "metadata": {
        "id": "abbcj5L40-76"
      },
      "source": [
        "from sklearn.naive_bayes import MultinomialNB"
      ],
      "execution_count": 26,
      "outputs": []
    },
    {
      "cell_type": "code",
      "metadata": {
        "id": "i8aOyhQT1Dar"
      },
      "source": [
        "# clf will be the list of the classifiers for all the 6 labels\n",
        "# each classifier is fit with the training data and corresponding classifier\n",
        "clf = []\n",
        "for ix in range(6):\n",
        "    clf.append(MultinomialNB())\n",
        "    clf[ix].fit(X_train,Y_train[:,ix])"
      ],
      "execution_count": 27,
      "outputs": []
    },
    {
      "cell_type": "code",
      "metadata": {
        "colab": {
          "base_uri": "https://localhost:8080/"
        },
        "id": "8dcECnJd1F5e",
        "outputId": "fd7e1ade-d1e6-4eb1-f3bd-eafda2ea1687"
      },
      "source": [
        "# predict list contains the predictions, it is transposed later to get the proper shape\n",
        "predict = []\n",
        "for ix in range(6):\n",
        "    predict.append(clf[ix].predict(X_test))\n",
        "\n",
        "predict = np.asarray(np.transpose(predict))\n",
        "print(predict.shape)"
      ],
      "execution_count": 28,
      "outputs": [
        {
          "output_type": "stream",
          "text": [
            "(38631, 6)\n"
          ],
          "name": "stdout"
        }
      ]
    },
    {
      "cell_type": "code",
      "metadata": {
        "colab": {
          "base_uri": "https://localhost:8080/"
        },
        "id": "6C2Vb2j81KUU",
        "outputId": "dbbcf190-706a-446e-b781-9b0a1f39e121"
      },
      "source": [
        "# calculate results\n",
        "evaluate_score(Y_test,predict)"
      ],
      "execution_count": 29,
      "outputs": [
        {
          "output_type": "stream",
          "text": [
            "Hamming_loss : 4.244863796778063\n",
            "Accuracy : 88.3280267142968\n",
            "Log_loss : 0.7876400212097419\n"
          ],
          "name": "stdout"
        }
      ]
    },
    {
      "cell_type": "code",
      "metadata": {
        "colab": {
          "base_uri": "https://localhost:8080/",
          "height": 206
        },
        "id": "qjqioxQ_1PsL",
        "outputId": "901c733b-7323-4910-a02c-cb6af4fa8f44"
      },
      "source": [
        "classification_report(Y_test,predict)"
      ],
      "execution_count": 30,
      "outputs": [
        {
          "output_type": "stream",
          "text": [
            "/usr/local/lib/python3.7/dist-packages/sklearn/metrics/_classification.py:1272: UndefinedMetricWarning: Precision and F-score are ill-defined and being set to 0.0 in labels with no predicted samples. Use `zero_division` parameter to control this behavior.\n",
            "  _warn_prf(average, modifier, msg_start, len(result))\n",
            "/usr/local/lib/python3.7/dist-packages/sklearn/metrics/_classification.py:1272: UndefinedMetricWarning: Precision and F-score are ill-defined and being set to 0.0 in samples with no predicted labels. Use `zero_division` parameter to control this behavior.\n",
            "  _warn_prf(average, modifier, msg_start, len(result))\n",
            "/usr/local/lib/python3.7/dist-packages/sklearn/metrics/_classification.py:1272: UndefinedMetricWarning: Recall and F-score are ill-defined and being set to 0.0 in samples with no true labels. Use `zero_division` parameter to control this behavior.\n",
            "  _warn_prf(average, modifier, msg_start, len(result))\n"
          ],
          "name": "stderr"
        },
        {
          "output_type": "execute_result",
          "data": {
            "application/vnd.google.colaboratory.intrinsic+json": {
              "type": "string"
            },
            "text/plain": [
              "'              precision    recall  f1-score   support\\n\\n           0       1.00      0.04      0.07      4306\\n           1       0.00      0.00      0.00       489\\n           2       1.00      0.01      0.02      2405\\n           3       0.00      0.00      0.00       146\\n           4       0.00      0.00      0.00      2273\\n           5       0.00      0.00      0.00       394\\n\\n   micro avg       1.00      0.02      0.03     10013\\n   macro avg       0.33      0.01      0.01     10013\\nweighted avg       0.67      0.02      0.03     10013\\n samples avg       0.00      0.00      0.00     10013\\n'"
            ]
          },
          "metadata": {
            "tags": []
          },
          "execution_count": 30
        }
      ]
    },
    {
      "cell_type": "markdown",
      "metadata": {
        "id": "cUUfdPP81ZWP"
      },
      "source": [
        "\n",
        "BR Method with Multinomial classifier (from scikit-multilearn)"
      ]
    },
    {
      "cell_type": "code",
      "metadata": {
        "colab": {
          "base_uri": "https://localhost:8080/"
        },
        "id": "WSInH57O1Zva",
        "outputId": "6dff53f3-210f-41a4-9421-5016b8b3d877"
      },
      "source": [
        "!pip install scikit-multilearn"
      ],
      "execution_count": 31,
      "outputs": [
        {
          "output_type": "stream",
          "text": [
            "Collecting scikit-multilearn\n",
            "\u001b[?25l  Downloading https://files.pythonhosted.org/packages/bb/1f/e6ff649c72a1cdf2c7a1d31eb21705110ce1c5d3e7e26b2cc300e1637272/scikit_multilearn-0.2.0-py3-none-any.whl (89kB)\n",
            "\r\u001b[K     |███▊                            | 10kB 15.5MB/s eta 0:00:01\r\u001b[K     |███████▍                        | 20kB 21.3MB/s eta 0:00:01\r\u001b[K     |███████████                     | 30kB 11.0MB/s eta 0:00:01\r\u001b[K     |██████████████▊                 | 40kB 9.0MB/s eta 0:00:01\r\u001b[K     |██████████████████▍             | 51kB 4.3MB/s eta 0:00:01\r\u001b[K     |██████████████████████          | 61kB 4.9MB/s eta 0:00:01\r\u001b[K     |█████████████████████████▊      | 71kB 4.6MB/s eta 0:00:01\r\u001b[K     |█████████████████████████████▍  | 81kB 5.1MB/s eta 0:00:01\r\u001b[K     |████████████████████████████████| 92kB 3.3MB/s \n",
            "\u001b[?25hInstalling collected packages: scikit-multilearn\n",
            "Successfully installed scikit-multilearn-0.2.0\n"
          ],
          "name": "stdout"
        }
      ]
    },
    {
      "cell_type": "code",
      "metadata": {
        "colab": {
          "base_uri": "https://localhost:8080/"
        },
        "id": "Ja-ZL8nd1tYY",
        "outputId": "9ac48e91-85ab-422c-9cb4-a614fe8cc7bf"
      },
      "source": [
        "#create and fit classifier\n",
        "from skmultilearn.problem_transform import BinaryRelevance\n",
        "classifier = BinaryRelevance(classifier = MultinomialNB(), require_dense = [False, True])\n",
        "classifier.fit(X_train, Y_train)"
      ],
      "execution_count": 32,
      "outputs": [
        {
          "output_type": "execute_result",
          "data": {
            "text/plain": [
              "BinaryRelevance(classifier=MultinomialNB(alpha=1.0, class_prior=None,\n",
              "                                         fit_prior=True),\n",
              "                require_dense=[False, True])"
            ]
          },
          "metadata": {
            "tags": []
          },
          "execution_count": 32
        }
      ]
    },
    {
      "cell_type": "code",
      "metadata": {
        "id": "TI4WP2AX1_jF"
      },
      "source": [
        "#predictions\n",
        "predictions = classifier.predict(X_test)"
      ],
      "execution_count": 33,
      "outputs": []
    },
    {
      "cell_type": "code",
      "metadata": {
        "colab": {
          "base_uri": "https://localhost:8080/"
        },
        "id": "qDIlsbR32CUI",
        "outputId": "06e534a1-0e7c-4d3a-a7a6-cf37ae6d9c8a"
      },
      "source": [
        "#calculate scores\n",
        "evaluate_score(Y_test,predictions)"
      ],
      "execution_count": 34,
      "outputs": [
        {
          "output_type": "stream",
          "text": [
            "Hamming_loss : 4.244863796778063\n",
            "Accuracy : 88.3280267142968\n",
            "Log_loss : 0.7876400212097419\n"
          ],
          "name": "stdout"
        }
      ]
    },
    {
      "cell_type": "code",
      "metadata": {
        "colab": {
          "base_uri": "https://localhost:8080/",
          "height": 206
        },
        "id": "DSztUC7n2Ey2",
        "outputId": "822e94fc-a0de-46c8-ace9-fa82abcd868d"
      },
      "source": [
        "classification_report(Y_test,predictions)"
      ],
      "execution_count": 35,
      "outputs": [
        {
          "output_type": "stream",
          "text": [
            "/usr/local/lib/python3.7/dist-packages/sklearn/metrics/_classification.py:1272: UndefinedMetricWarning: Precision and F-score are ill-defined and being set to 0.0 in labels with no predicted samples. Use `zero_division` parameter to control this behavior.\n",
            "  _warn_prf(average, modifier, msg_start, len(result))\n",
            "/usr/local/lib/python3.7/dist-packages/sklearn/metrics/_classification.py:1272: UndefinedMetricWarning: Precision and F-score are ill-defined and being set to 0.0 in samples with no predicted labels. Use `zero_division` parameter to control this behavior.\n",
            "  _warn_prf(average, modifier, msg_start, len(result))\n",
            "/usr/local/lib/python3.7/dist-packages/sklearn/metrics/_classification.py:1272: UndefinedMetricWarning: Recall and F-score are ill-defined and being set to 0.0 in samples with no true labels. Use `zero_division` parameter to control this behavior.\n",
            "  _warn_prf(average, modifier, msg_start, len(result))\n"
          ],
          "name": "stderr"
        },
        {
          "output_type": "execute_result",
          "data": {
            "application/vnd.google.colaboratory.intrinsic+json": {
              "type": "string"
            },
            "text/plain": [
              "'              precision    recall  f1-score   support\\n\\n           0       1.00      0.04      0.07      4306\\n           1       0.00      0.00      0.00       489\\n           2       1.00      0.01      0.02      2405\\n           3       0.00      0.00      0.00       146\\n           4       0.00      0.00      0.00      2273\\n           5       0.00      0.00      0.00       394\\n\\n   micro avg       1.00      0.02      0.03     10013\\n   macro avg       0.33      0.01      0.01     10013\\nweighted avg       0.67      0.02      0.03     10013\\n samples avg       0.00      0.00      0.00     10013\\n'"
            ]
          },
          "metadata": {
            "tags": []
          },
          "execution_count": 35
        }
      ]
    },
    {
      "cell_type": "markdown",
      "metadata": {
        "id": "XPFepIza2Lpn"
      },
      "source": [
        "Making all the changes as we made on our training dataset"
      ]
    },
    {
      "cell_type": "code",
      "metadata": {
        "id": "98VyTnwM2MMv"
      },
      "source": [
        "#Read the csv file into dataframe df\n",
        "Test_data = pd.read_csv('/content/drive/MyDrive/gautam bhushan/test.csv')"
      ],
      "execution_count": 36,
      "outputs": []
    },
    {
      "cell_type": "code",
      "metadata": {
        "colab": {
          "base_uri": "https://localhost:8080/",
          "height": 417
        },
        "id": "lChrSXcW2RxU",
        "outputId": "faedccd4-3348-40dd-b88f-f85b947af1cd"
      },
      "source": [
        "Test_data"
      ],
      "execution_count": 37,
      "outputs": [
        {
          "output_type": "execute_result",
          "data": {
            "text/html": [
              "<div>\n",
              "<style scoped>\n",
              "    .dataframe tbody tr th:only-of-type {\n",
              "        vertical-align: middle;\n",
              "    }\n",
              "\n",
              "    .dataframe tbody tr th {\n",
              "        vertical-align: top;\n",
              "    }\n",
              "\n",
              "    .dataframe thead th {\n",
              "        text-align: right;\n",
              "    }\n",
              "</style>\n",
              "<table border=\"1\" class=\"dataframe\">\n",
              "  <thead>\n",
              "    <tr style=\"text-align: right;\">\n",
              "      <th></th>\n",
              "      <th>id</th>\n",
              "      <th>comment_text</th>\n",
              "    </tr>\n",
              "  </thead>\n",
              "  <tbody>\n",
              "    <tr>\n",
              "      <th>0</th>\n",
              "      <td>00001cee341fdb12</td>\n",
              "      <td>Yo bitch Ja Rule is more succesful then you'll...</td>\n",
              "    </tr>\n",
              "    <tr>\n",
              "      <th>1</th>\n",
              "      <td>0000247867823ef7</td>\n",
              "      <td>== From RfC == \\n\\n The title is fine as it is...</td>\n",
              "    </tr>\n",
              "    <tr>\n",
              "      <th>2</th>\n",
              "      <td>00013b17ad220c46</td>\n",
              "      <td>\" \\n\\n == Sources == \\n\\n * Zawe Ashton on Lap...</td>\n",
              "    </tr>\n",
              "    <tr>\n",
              "      <th>3</th>\n",
              "      <td>00017563c3f7919a</td>\n",
              "      <td>:If you have a look back at the source, the in...</td>\n",
              "    </tr>\n",
              "    <tr>\n",
              "      <th>4</th>\n",
              "      <td>00017695ad8997eb</td>\n",
              "      <td>I don't anonymously edit articles at all.</td>\n",
              "    </tr>\n",
              "    <tr>\n",
              "      <th>...</th>\n",
              "      <td>...</td>\n",
              "      <td>...</td>\n",
              "    </tr>\n",
              "    <tr>\n",
              "      <th>153159</th>\n",
              "      <td>fffcd0960ee309b5</td>\n",
              "      <td>. \\n i totally agree, this stuff is nothing bu...</td>\n",
              "    </tr>\n",
              "    <tr>\n",
              "      <th>153160</th>\n",
              "      <td>fffd7a9a6eb32c16</td>\n",
              "      <td>== Throw from out field to home plate. == \\n\\n...</td>\n",
              "    </tr>\n",
              "    <tr>\n",
              "      <th>153161</th>\n",
              "      <td>fffda9e8d6fafa9e</td>\n",
              "      <td>\" \\n\\n == Okinotorishima categories == \\n\\n I ...</td>\n",
              "    </tr>\n",
              "    <tr>\n",
              "      <th>153162</th>\n",
              "      <td>fffe8f1340a79fc2</td>\n",
              "      <td>\" \\n\\n == \"\"One of the founding nations of the...</td>\n",
              "    </tr>\n",
              "    <tr>\n",
              "      <th>153163</th>\n",
              "      <td>ffffce3fb183ee80</td>\n",
              "      <td>\" \\n :::Stop already. Your bullshit is not wel...</td>\n",
              "    </tr>\n",
              "  </tbody>\n",
              "</table>\n",
              "<p>153164 rows × 2 columns</p>\n",
              "</div>"
            ],
            "text/plain": [
              "                      id                                       comment_text\n",
              "0       00001cee341fdb12  Yo bitch Ja Rule is more succesful then you'll...\n",
              "1       0000247867823ef7  == From RfC == \\n\\n The title is fine as it is...\n",
              "2       00013b17ad220c46  \" \\n\\n == Sources == \\n\\n * Zawe Ashton on Lap...\n",
              "3       00017563c3f7919a  :If you have a look back at the source, the in...\n",
              "4       00017695ad8997eb          I don't anonymously edit articles at all.\n",
              "...                  ...                                                ...\n",
              "153159  fffcd0960ee309b5  . \\n i totally agree, this stuff is nothing bu...\n",
              "153160  fffd7a9a6eb32c16  == Throw from out field to home plate. == \\n\\n...\n",
              "153161  fffda9e8d6fafa9e  \" \\n\\n == Okinotorishima categories == \\n\\n I ...\n",
              "153162  fffe8f1340a79fc2  \" \\n\\n == \"\"One of the founding nations of the...\n",
              "153163  ffffce3fb183ee80  \" \\n :::Stop already. Your bullshit is not wel...\n",
              "\n",
              "[153164 rows x 2 columns]"
            ]
          },
          "metadata": {
            "tags": []
          },
          "execution_count": 37
        }
      ]
    },
    {
      "cell_type": "code",
      "metadata": {
        "colab": {
          "base_uri": "https://localhost:8080/"
        },
        "id": "KMUD_i-Z2VnN",
        "outputId": "f405cac2-7b21-4f08-de04-bd75338adccb"
      },
      "source": [
        "comment = Test_data['comment_text']\n",
        "print(comment.head())\n",
        "comment = comment.to_numpy()"
      ],
      "execution_count": 38,
      "outputs": [
        {
          "output_type": "stream",
          "text": [
            "0    Yo bitch Ja Rule is more succesful then you'll...\n",
            "1    == From RfC == \\n\\n The title is fine as it is...\n",
            "2    \" \\n\\n == Sources == \\n\\n * Zawe Ashton on Lap...\n",
            "3    :If you have a look back at the source, the in...\n",
            "4            I don't anonymously edit articles at all.\n",
            "Name: comment_text, dtype: object\n"
          ],
          "name": "stdout"
        }
      ]
    },
    {
      "cell_type": "code",
      "metadata": {
        "id": "jTHemF5S2dKw"
      },
      "source": [
        "comments = []\n",
        "\n",
        "for ix in range(comment.shape[0]):\n",
        "    if len(comment[ix])<=400:\n",
        "        comments.append(comment[ix])"
      ],
      "execution_count": 39,
      "outputs": []
    },
    {
      "cell_type": "code",
      "metadata": {
        "id": "HjtZwFJZ2gcz"
      },
      "source": [
        "for i in range(len(comments)):\n",
        "    comments[i] = comments[i].lower().translate(trantab)\n",
        "    l = []\n",
        "    for word in comments[i].split():\n",
        "        l.append(stemmer.stem(lemmatiser.lemmatize(word,pos=\"v\")))\n",
        "    comments[i] = \" \".join(l)"
      ],
      "execution_count": 40,
      "outputs": []
    },
    {
      "cell_type": "code",
      "metadata": {
        "colab": {
          "base_uri": "https://localhost:8080/"
        },
        "id": "vqxpVy612kXZ",
        "outputId": "74056a86-65e5-4e60-a18f-dd471c222d48"
      },
      "source": [
        "from sklearn.feature_extraction.text import HashingVectorizer\n",
        "\n",
        "vectorizer = HashingVectorizer(alternate_sign=False)\n",
        "tf = vectorizer.fit_transform(comments)\n",
        "print(tf.shape)"
      ],
      "execution_count": 41,
      "outputs": [
        {
          "output_type": "stream",
          "text": [
            "(115769, 1048576)\n"
          ],
          "name": "stdout"
        }
      ]
    },
    {
      "cell_type": "code",
      "metadata": {
        "colab": {
          "base_uri": "https://localhost:8080/",
          "height": 417
        },
        "id": "45MAFV5G2_UC",
        "outputId": "05983413-7f52-471c-ca3b-631a2a1c43ba"
      },
      "source": [
        "pd.DataFrame(data=tf)"
      ],
      "execution_count": 42,
      "outputs": [
        {
          "output_type": "execute_result",
          "data": {
            "text/html": [
              "<div>\n",
              "<style scoped>\n",
              "    .dataframe tbody tr th:only-of-type {\n",
              "        vertical-align: middle;\n",
              "    }\n",
              "\n",
              "    .dataframe tbody tr th {\n",
              "        vertical-align: top;\n",
              "    }\n",
              "\n",
              "    .dataframe thead th {\n",
              "        text-align: right;\n",
              "    }\n",
              "</style>\n",
              "<table border=\"1\" class=\"dataframe\">\n",
              "  <thead>\n",
              "    <tr style=\"text-align: right;\">\n",
              "      <th></th>\n",
              "      <th>0</th>\n",
              "    </tr>\n",
              "  </thead>\n",
              "  <tbody>\n",
              "    <tr>\n",
              "      <th>0</th>\n",
              "      <td>(0, 10919)\\t0.08804509063256238\\n  (0, 26634...</td>\n",
              "    </tr>\n",
              "    <tr>\n",
              "      <th>1</th>\n",
              "      <td>(0, 174974)\\t0.5773502691896258\\n  (0, 23947...</td>\n",
              "    </tr>\n",
              "    <tr>\n",
              "      <th>2</th>\n",
              "      <td>(0, 173139)\\t0.4472135954999579\\n  (0, 27522...</td>\n",
              "    </tr>\n",
              "    <tr>\n",
              "      <th>3</th>\n",
              "      <td>(0, 103968)\\t0.12309149097933272\\n  (0, 1232...</td>\n",
              "    </tr>\n",
              "    <tr>\n",
              "      <th>4</th>\n",
              "      <td>(0, 156674)\\t0.4082482904638631\\n  (0, 19883...</td>\n",
              "    </tr>\n",
              "    <tr>\n",
              "      <th>...</th>\n",
              "      <td>...</td>\n",
              "    </tr>\n",
              "    <tr>\n",
              "      <th>115764</th>\n",
              "      <td>(0, 31813)\\t0.13736056394868904\\n  (0, 48144...</td>\n",
              "    </tr>\n",
              "    <tr>\n",
              "      <th>115765</th>\n",
              "      <td>(0, 3856)\\t0.31622776601683794\\n  (0, 60869)...</td>\n",
              "    </tr>\n",
              "    <tr>\n",
              "      <th>115766</th>\n",
              "      <td>(0, 7733)\\t0.31622776601683794\\n  (0, 171262...</td>\n",
              "    </tr>\n",
              "    <tr>\n",
              "      <th>115767</th>\n",
              "      <td>(0, 26634)\\t0.1386750490563073\\n  (0, 45419)...</td>\n",
              "    </tr>\n",
              "    <tr>\n",
              "      <th>115768</th>\n",
              "      <td>(0, 1907)\\t0.19245008972987526\\n  (0, 46353)...</td>\n",
              "    </tr>\n",
              "  </tbody>\n",
              "</table>\n",
              "<p>115769 rows × 1 columns</p>\n",
              "</div>"
            ],
            "text/plain": [
              "                                                        0\n",
              "0         (0, 10919)\\t0.08804509063256238\\n  (0, 26634...\n",
              "1         (0, 174974)\\t0.5773502691896258\\n  (0, 23947...\n",
              "2         (0, 173139)\\t0.4472135954999579\\n  (0, 27522...\n",
              "3         (0, 103968)\\t0.12309149097933272\\n  (0, 1232...\n",
              "4         (0, 156674)\\t0.4082482904638631\\n  (0, 19883...\n",
              "...                                                   ...\n",
              "115764    (0, 31813)\\t0.13736056394868904\\n  (0, 48144...\n",
              "115765    (0, 3856)\\t0.31622776601683794\\n  (0, 60869)...\n",
              "115766    (0, 7733)\\t0.31622776601683794\\n  (0, 171262...\n",
              "115767    (0, 26634)\\t0.1386750490563073\\n  (0, 45419)...\n",
              "115768    (0, 1907)\\t0.19245008972987526\\n  (0, 46353)...\n",
              "\n",
              "[115769 rows x 1 columns]"
            ]
          },
          "metadata": {
            "tags": []
          },
          "execution_count": 42
        }
      ]
    },
    {
      "cell_type": "markdown",
      "metadata": {
        "id": "esz1h1OQ3LE6"
      },
      "source": [
        "On the basis of log loss we save Binary Relevance (BR) Method with Multinomial classifier as our final model"
      ]
    },
    {
      "cell_type": "code",
      "metadata": {
        "colab": {
          "base_uri": "https://localhost:8080/"
        },
        "id": "E8QQr2jc3Lf7",
        "outputId": "734c033d-7362-48d3-d962-a21d06c9911f"
      },
      "source": [
        "#saving our model\n",
        "\n",
        "import joblib\n",
        "joblib.dump(classifier,'Malignant_Comments_Classifier.pkl')"
      ],
      "execution_count": 43,
      "outputs": [
        {
          "output_type": "execute_result",
          "data": {
            "text/plain": [
              "['Malignant_Comments_Classifier.pkl']"
            ]
          },
          "metadata": {
            "tags": []
          },
          "execution_count": 43
        }
      ]
    },
    {
      "cell_type": "code",
      "metadata": {
        "id": "Bk7NbOA73Ymx"
      },
      "source": [
        "model=joblib.load('Malignant_Comments_Classifier.pkl')"
      ],
      "execution_count": 44,
      "outputs": []
    },
    {
      "cell_type": "code",
      "metadata": {
        "colab": {
          "base_uri": "https://localhost:8080/"
        },
        "id": "0SgMmyef3dzN",
        "outputId": "b0989b3a-ccd0-48b5-e373-2475aa2ebe34"
      },
      "source": [
        "#Testing our model\n",
        "import sys\n",
        "nums= model.predict(tf)\n",
        "np.set_printoptions(threshold=sys.maxsize)\n",
        "print(nums)"
      ],
      "execution_count": 45,
      "outputs": [
        {
          "output_type": "stream",
          "text": [
            "  (48, 0)\t1\n",
            "  (132, 0)\t1\n",
            "  (147, 0)\t1\n",
            "  (372, 0)\t1\n",
            "  (575, 0)\t1\n",
            "  (618, 0)\t1\n",
            "  (880, 0)\t1\n",
            "  (1041, 0)\t1\n",
            "  (1055, 0)\t1\n",
            "  (1070, 0)\t1\n",
            "  (1080, 0)\t1\n",
            "  (1140, 0)\t1\n",
            "  (1229, 0)\t1\n",
            "  (1279, 0)\t1\n",
            "  (1284, 0)\t1\n",
            "  (1318, 0)\t1\n",
            "  (1441, 0)\t1\n",
            "  (1474, 0)\t1\n",
            "  (1559, 0)\t1\n",
            "  (1598, 0)\t1\n",
            "  (1791, 0)\t1\n",
            "  (1798, 0)\t1\n",
            "  (1821, 0)\t1\n",
            "  (1858, 0)\t1\n",
            "  (1959, 0)\t1\n",
            "  :\t:\n",
            "  (104320, 2)\t1\n",
            "  (105522, 2)\t1\n",
            "  (105592, 2)\t1\n",
            "  (105970, 2)\t1\n",
            "  (106320, 2)\t1\n",
            "  (106532, 2)\t1\n",
            "  (108639, 2)\t1\n",
            "  (108827, 2)\t1\n",
            "  (109884, 2)\t1\n",
            "  (112094, 2)\t1\n",
            "  (113425, 2)\t1\n",
            "  (114915, 2)\t1\n",
            "  (14858, 4)\t1\n",
            "  (17078, 4)\t1\n",
            "  (29785, 4)\t1\n",
            "  (29909, 4)\t1\n",
            "  (60570, 4)\t1\n",
            "  (60908, 4)\t1\n",
            "  (63564, 4)\t1\n",
            "  (74355, 4)\t1\n",
            "  (88593, 4)\t1\n",
            "  (93852, 4)\t1\n",
            "  (103729, 4)\t1\n",
            "  (104320, 4)\t1\n",
            "  (113425, 4)\t1\n"
          ],
          "name": "stdout"
        }
      ]
    },
    {
      "cell_type": "code",
      "metadata": {
        "id": "aAi8yqsO3iJP"
      },
      "source": [
        "data1 = pd.DataFrame(nums) \n",
        "    \n",
        "# saving the dataframe to csv\n",
        "data1.to_csv('Predictions.csv',index=False)"
      ],
      "execution_count": 47,
      "outputs": []
    },
    {
      "cell_type": "code",
      "metadata": {
        "id": "4klxpziJ3z4i"
      },
      "source": [
        ""
      ],
      "execution_count": null,
      "outputs": []
    }
  ]
}